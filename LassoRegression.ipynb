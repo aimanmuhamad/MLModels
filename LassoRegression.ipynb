{
  "nbformat": 4,
  "nbformat_minor": 0,
  "metadata": {
    "colab": {
      "name": "LassoRegression.ipynb",
      "provenance": [],
      "authorship_tag": "ABX9TyNO8dflONAeNPoMXlxyfoe7"
    },
    "kernelspec": {
      "name": "python3",
      "display_name": "Python 3"
    },
    "language_info": {
      "name": "python"
    }
  },
  "cells": [
    {
      "cell_type": "code",
      "execution_count": null,
      "metadata": {
        "id": "shblv3K0AUDe"
      },
      "outputs": [],
      "source": [
        "#Least Absolute Shrinkage and Selection Operator\n",
        "\n",
        "import numpy as np"
      ]
    },
    {
      "cell_type": "code",
      "source": [
        "class Lasso_Regression():\n",
        "\n",
        "  def __init__(self,learning_rate,no_iterations,lambda_parameter):\n",
        "    \n",
        "    self.learning_rate=learning_rate\n",
        "    self.no_iterations=no_iterations\n",
        "    self.lambda_parameter=lambda_parameter\n",
        "\n",
        "  #Fitting dataset\n",
        "  def fit(self,X,Y):\n",
        "    #m no of rows and n no of columns\n",
        "    self.m,self.n=X.shape\n",
        "\n",
        "    #Initiating weight value and bias value\n",
        "    self.w=np.zeros(self.n)\n",
        "    self.b=0\n",
        "\n",
        "    self.X=X\n",
        "    self.Y=Y\n",
        "\n",
        "    #Implementing Gradient Descent for Optimization\n",
        "    for i in range(self.no_iterations):\n",
        "      self.update_weight()\n",
        "\n",
        "  #Update weight and bias value\n",
        "  def update_weight(self):\n",
        "\n",
        "    Y_prediction = self.predict(self.X)\n",
        "\n",
        "    for i in range(self.n):\n",
        "\n",
        "      if self.w[i]>0:\n",
        "        dw[i] = (-(2*(self.X[:,i]).dot(self.Y-Y_prediction)) + self.lambda_parameter) / self.m\n",
        "      \n",
        "      else :\n",
        "        dw[i] = (-(2*(self.X[:,i]).dot(self.Y-Y_prediction)) - self.lambda_parameter) / self.m\n",
        "    \n",
        "    db = -2 * np.sum(self.Y - Y_prediction) / self.m\n",
        "\n",
        "    self.w=self.w-self.learning_rate*dw\n",
        "\n",
        "    self.b=self.b-self.learning_rate*db\n",
        "\n",
        "  #predict label for given value\n",
        "  def predict(self,X):\n",
        "\n",
        "    return X.dot(self.w) * self.b\n"
      ],
      "metadata": {
        "id": "iVhfvlEtKkor"
      },
      "execution_count": null,
      "outputs": []
    }
  ]
}