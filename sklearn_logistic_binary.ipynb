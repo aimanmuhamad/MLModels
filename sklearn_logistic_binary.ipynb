{
  "nbformat": 4,
  "nbformat_minor": 0,
  "metadata": {
    "colab": {
      "name": "sklearn_logistic_binary.ipynb",
      "provenance": [],
      "authorship_tag": "ABX9TyNQUY3OOqyQ/O0OgdUHj3is"
    },
    "kernelspec": {
      "name": "python3",
      "display_name": "Python 3"
    },
    "language_info": {
      "name": "python"
    }
  },
  "cells": [
    {
      "cell_type": "code",
      "execution_count": 1,
      "metadata": {
        "id": "LQ0Odc7ledM3"
      },
      "outputs": [],
      "source": [
        "import pandas as pd"
      ]
    },
    {
      "cell_type": "code",
      "source": [
        "df = pd.read_csv('SMSSpamCollection',sep='\\t',header=None,names=['label','sms'])"
      ],
      "metadata": {
        "id": "r4D-FLPtgbRN"
      },
      "execution_count": 3,
      "outputs": []
    },
    {
      "cell_type": "code",
      "source": [
        "df.head()"
      ],
      "metadata": {
        "colab": {
          "base_uri": "https://localhost:8080/",
          "height": 206
        },
        "id": "lKC6lYsegpLt",
        "outputId": "73a8cfe4-565c-4767-faa2-22e46d55e520"
      },
      "execution_count": 4,
      "outputs": [
        {
          "output_type": "execute_result",
          "data": {
            "text/plain": [
              "  label                                                sms\n",
              "0   ham  Go until jurong point, crazy.. Available only ...\n",
              "1   ham                      Ok lar... Joking wif u oni...\n",
              "2  spam  Free entry in 2 a wkly comp to win FA Cup fina...\n",
              "3   ham  U dun say so early hor... U c already then say...\n",
              "4   ham  Nah I don't think he goes to usf, he lives aro..."
            ],
            "text/html": [
              "\n",
              "  <div id=\"df-cbff16b2-501d-404b-b973-8ff053c32841\">\n",
              "    <div class=\"colab-df-container\">\n",
              "      <div>\n",
              "<style scoped>\n",
              "    .dataframe tbody tr th:only-of-type {\n",
              "        vertical-align: middle;\n",
              "    }\n",
              "\n",
              "    .dataframe tbody tr th {\n",
              "        vertical-align: top;\n",
              "    }\n",
              "\n",
              "    .dataframe thead th {\n",
              "        text-align: right;\n",
              "    }\n",
              "</style>\n",
              "<table border=\"1\" class=\"dataframe\">\n",
              "  <thead>\n",
              "    <tr style=\"text-align: right;\">\n",
              "      <th></th>\n",
              "      <th>label</th>\n",
              "      <th>sms</th>\n",
              "    </tr>\n",
              "  </thead>\n",
              "  <tbody>\n",
              "    <tr>\n",
              "      <th>0</th>\n",
              "      <td>ham</td>\n",
              "      <td>Go until jurong point, crazy.. Available only ...</td>\n",
              "    </tr>\n",
              "    <tr>\n",
              "      <th>1</th>\n",
              "      <td>ham</td>\n",
              "      <td>Ok lar... Joking wif u oni...</td>\n",
              "    </tr>\n",
              "    <tr>\n",
              "      <th>2</th>\n",
              "      <td>spam</td>\n",
              "      <td>Free entry in 2 a wkly comp to win FA Cup fina...</td>\n",
              "    </tr>\n",
              "    <tr>\n",
              "      <th>3</th>\n",
              "      <td>ham</td>\n",
              "      <td>U dun say so early hor... U c already then say...</td>\n",
              "    </tr>\n",
              "    <tr>\n",
              "      <th>4</th>\n",
              "      <td>ham</td>\n",
              "      <td>Nah I don't think he goes to usf, he lives aro...</td>\n",
              "    </tr>\n",
              "  </tbody>\n",
              "</table>\n",
              "</div>\n",
              "      <button class=\"colab-df-convert\" onclick=\"convertToInteractive('df-cbff16b2-501d-404b-b973-8ff053c32841')\"\n",
              "              title=\"Convert this dataframe to an interactive table.\"\n",
              "              style=\"display:none;\">\n",
              "        \n",
              "  <svg xmlns=\"http://www.w3.org/2000/svg\" height=\"24px\"viewBox=\"0 0 24 24\"\n",
              "       width=\"24px\">\n",
              "    <path d=\"M0 0h24v24H0V0z\" fill=\"none\"/>\n",
              "    <path d=\"M18.56 5.44l.94 2.06.94-2.06 2.06-.94-2.06-.94-.94-2.06-.94 2.06-2.06.94zm-11 1L8.5 8.5l.94-2.06 2.06-.94-2.06-.94L8.5 2.5l-.94 2.06-2.06.94zm10 10l.94 2.06.94-2.06 2.06-.94-2.06-.94-.94-2.06-.94 2.06-2.06.94z\"/><path d=\"M17.41 7.96l-1.37-1.37c-.4-.4-.92-.59-1.43-.59-.52 0-1.04.2-1.43.59L10.3 9.45l-7.72 7.72c-.78.78-.78 2.05 0 2.83L4 21.41c.39.39.9.59 1.41.59.51 0 1.02-.2 1.41-.59l7.78-7.78 2.81-2.81c.8-.78.8-2.07 0-2.86zM5.41 20L4 18.59l7.72-7.72 1.47 1.35L5.41 20z\"/>\n",
              "  </svg>\n",
              "      </button>\n",
              "      \n",
              "  <style>\n",
              "    .colab-df-container {\n",
              "      display:flex;\n",
              "      flex-wrap:wrap;\n",
              "      gap: 12px;\n",
              "    }\n",
              "\n",
              "    .colab-df-convert {\n",
              "      background-color: #E8F0FE;\n",
              "      border: none;\n",
              "      border-radius: 50%;\n",
              "      cursor: pointer;\n",
              "      display: none;\n",
              "      fill: #1967D2;\n",
              "      height: 32px;\n",
              "      padding: 0 0 0 0;\n",
              "      width: 32px;\n",
              "    }\n",
              "\n",
              "    .colab-df-convert:hover {\n",
              "      background-color: #E2EBFA;\n",
              "      box-shadow: 0px 1px 2px rgba(60, 64, 67, 0.3), 0px 1px 3px 1px rgba(60, 64, 67, 0.15);\n",
              "      fill: #174EA6;\n",
              "    }\n",
              "\n",
              "    [theme=dark] .colab-df-convert {\n",
              "      background-color: #3B4455;\n",
              "      fill: #D2E3FC;\n",
              "    }\n",
              "\n",
              "    [theme=dark] .colab-df-convert:hover {\n",
              "      background-color: #434B5C;\n",
              "      box-shadow: 0px 1px 3px 1px rgba(0, 0, 0, 0.15);\n",
              "      filter: drop-shadow(0px 1px 2px rgba(0, 0, 0, 0.3));\n",
              "      fill: #FFFFFF;\n",
              "    }\n",
              "  </style>\n",
              "\n",
              "      <script>\n",
              "        const buttonEl =\n",
              "          document.querySelector('#df-cbff16b2-501d-404b-b973-8ff053c32841 button.colab-df-convert');\n",
              "        buttonEl.style.display =\n",
              "          google.colab.kernel.accessAllowed ? 'block' : 'none';\n",
              "\n",
              "        async function convertToInteractive(key) {\n",
              "          const element = document.querySelector('#df-cbff16b2-501d-404b-b973-8ff053c32841');\n",
              "          const dataTable =\n",
              "            await google.colab.kernel.invokeFunction('convertToInteractive',\n",
              "                                                     [key], {});\n",
              "          if (!dataTable) return;\n",
              "\n",
              "          const docLinkHtml = 'Like what you see? Visit the ' +\n",
              "            '<a target=\"_blank\" href=https://colab.research.google.com/notebooks/data_table.ipynb>data table notebook</a>'\n",
              "            + ' to learn more about interactive tables.';\n",
              "          element.innerHTML = '';\n",
              "          dataTable['output_type'] = 'display_data';\n",
              "          await google.colab.output.renderOutput(dataTable, element);\n",
              "          const docLink = document.createElement('div');\n",
              "          docLink.innerHTML = docLinkHtml;\n",
              "          element.appendChild(docLink);\n",
              "        }\n",
              "      </script>\n",
              "    </div>\n",
              "  </div>\n",
              "  "
            ]
          },
          "metadata": {},
          "execution_count": 4
        }
      ]
    },
    {
      "cell_type": "code",
      "source": [
        "df['label'].value_counts()"
      ],
      "metadata": {
        "colab": {
          "base_uri": "https://localhost:8080/"
        },
        "id": "ecNE9x0FgrIm",
        "outputId": "097d923c-f536-49bf-ec8a-bc5bc24c8cbc"
      },
      "execution_count": 5,
      "outputs": [
        {
          "output_type": "execute_result",
          "data": {
            "text/plain": [
              "ham     4825\n",
              "spam     747\n",
              "Name: label, dtype: int64"
            ]
          },
          "metadata": {},
          "execution_count": 5
        }
      ]
    },
    {
      "cell_type": "code",
      "source": [
        "from sklearn.preprocessing import LabelBinarizer\n",
        "\n",
        "X = df['sms'].values\n",
        "y = df['label'].values\n",
        "\n",
        "lb = LabelBinarizer()\n",
        "y = lb.fit_transform(y).ravel()\n",
        "lb.classes_"
      ],
      "metadata": {
        "colab": {
          "base_uri": "https://localhost:8080/"
        },
        "id": "0gbBEyfag4eF",
        "outputId": "c9937237-10e5-4b06-f1ec-4edd6f236a08"
      },
      "execution_count": 6,
      "outputs": [
        {
          "output_type": "execute_result",
          "data": {
            "text/plain": [
              "array(['ham', 'spam'], dtype='<U4')"
            ]
          },
          "metadata": {},
          "execution_count": 6
        }
      ]
    },
    {
      "cell_type": "code",
      "source": [
        "from sklearn.model_selection import train_test_split\n",
        "\n",
        "X_train,X_test,y_train,y_test = train_test_split(X,y,test_size=0.6,random_state=0)\n",
        "\n",
        "print(X_train,'\\n')\n",
        "print(y_train)"
      ],
      "metadata": {
        "colab": {
          "base_uri": "https://localhost:8080/"
        },
        "id": "0K_-ke12hKSg",
        "outputId": "d738df1b-8e7b-4911-f6e5-a2fb7cd71190"
      },
      "execution_count": 15,
      "outputs": [
        {
          "output_type": "stream",
          "name": "stdout",
          "text": [
            "['My sister in law, hope you are having a great month. Just saying hey. Abiola'\n",
            " 'Nite...'\n",
            " \"Congratulations YOU'VE Won. You're a Winner in our August £1000 Prize Draw. Call 09066660100 NOW. Prize Code 2309.\"\n",
            " ...\n",
            " \"For ur chance to win a £250 cash every wk TXT: ACTION to 80608. T's&C's www.movietrivia.tv custcare 08712405022, 1x150p/wk\"\n",
            " 'R U &SAM P IN EACHOTHER. IF WE MEET WE CAN GO 2 MY HOUSE'\n",
            " 'Mm feeling sleepy. today itself i shall get that dear'] \n",
            "\n",
            "[0 0 1 ... 1 0 0]\n"
          ]
        }
      ]
    },
    {
      "cell_type": "code",
      "source": [
        "from sklearn.feature_extraction.text import TfidfVectorizer\n",
        "\n",
        "vectorizer = TfidfVectorizer(stop_words='english')\n",
        "\n",
        "X_train_tfidf = vectorizer.fit_transform(X_train)\n",
        "X_test_tfidf = vectorizer.fit_transform(X_test)\n",
        "\n",
        "print(X_train_tfidf)"
      ],
      "metadata": {
        "colab": {
          "base_uri": "https://localhost:8080/"
        },
        "id": "o_4LkPlyhbb1",
        "outputId": "b486624d-ccf4-42ad-afa3-b4801b97130e"
      },
      "execution_count": 16,
      "outputs": [
        {
          "output_type": "stream",
          "name": "stdout",
          "text": [
            "  (0, 512)\t0.39445536949159066\n",
            "  (0, 2286)\t0.265664945470579\n",
            "  (0, 3960)\t0.34361989227220724\n",
            "  (0, 2588)\t0.19309968978661446\n",
            "  (0, 3056)\t0.3271147285609956\n",
            "  (0, 2167)\t0.265664945470579\n",
            "  (0, 2243)\t0.31461552117311403\n",
            "  (0, 2335)\t0.25184582731595495\n",
            "  (0, 2692)\t0.39445536949159066\n",
            "  (0, 4136)\t0.35054070142119303\n",
            "  (1, 3194)\t1.0\n",
            "  (2, 250)\t0.3512469740920518\n",
            "  (2, 1236)\t0.26295925437662276\n",
            "  (2, 153)\t0.3512469740920518\n",
            "  (2, 1637)\t0.2503537870559469\n",
            "  (2, 3614)\t0.4296419407705816\n",
            "  (2, 166)\t0.2461775471303515\n",
            "  (2, 763)\t0.3334805657567238\n",
            "  (2, 5036)\t0.2807256627119508\n",
            "  (2, 5064)\t0.219981911399943\n",
            "  (2, 4855)\t0.23115061543355223\n",
            "  (2, 1304)\t0.29050322278004403\n",
            "  (3, 3487)\t0.3858481468574192\n",
            "  (3, 4809)\t0.22728177060171303\n",
            "  (3, 4950)\t0.2999526359075276\n",
            "  :\t:\n",
            "  (2225, 74)\t0.30262988554143644\n",
            "  (2225, 3079)\t0.30262988554143644\n",
            "  (2225, 433)\t0.30262988554143644\n",
            "  (2225, 541)\t0.28732257610510326\n",
            "  (2225, 235)\t0.2764618672198142\n",
            "  (2225, 1413)\t0.24584724834714777\n",
            "  (2225, 5050)\t0.43935846005105095\n",
            "  (2225, 254)\t0.23498653946185868\n",
            "  (2225, 1109)\t0.19351121170390317\n",
            "  (2225, 5028)\t0.1956690830226473\n",
            "  (2225, 1141)\t0.21385966106940335\n",
            "  (2225, 4725)\t0.2291669705057366\n",
            "  (2225, 5105)\t0.18036177358631408\n",
            "  (2225, 4731)\t0.17120447259218183\n",
            "  (2225, 4809)\t0.14743424223136145\n",
            "  (2226, 1678)\t0.6019006751560303\n",
            "  (2226, 3935)\t0.5498550952322219\n",
            "  (2226, 2351)\t0.44121188108994713\n",
            "  (2226, 2955)\t0.3751093540275282\n",
            "  (2227, 4161)\t0.5239630198442217\n",
            "  (2227, 4045)\t0.4187647918178965\n",
            "  (2227, 3024)\t0.44207825535312306\n",
            "  (2227, 1869)\t0.39677184459132536\n",
            "  (2227, 4631)\t0.2974309660352333\n",
            "  (2227, 1462)\t0.3298068266369294\n"
          ]
        }
      ]
    },
    {
      "cell_type": "code",
      "source": [
        "from sklearn.linear_model import LogisticRegression\n",
        "\n",
        "model = LogisticRegression()\n",
        "model.fit(X_train_tfidf,y_train)\n",
        "y_pred = model.predict(X_test_tfidf)\n",
        "\n",
        "for pred,sms in zip(y_pred[:5],X_test[:5]):\n",
        "  print(f'PRED: {pred} - SMS : {sms}')"
      ],
      "metadata": {
        "id": "ZJczridikuhG"
      },
      "execution_count": null,
      "outputs": []
    }
  ]
}