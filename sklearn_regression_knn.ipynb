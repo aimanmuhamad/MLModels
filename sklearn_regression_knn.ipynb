{
  "nbformat": 4,
  "nbformat_minor": 0,
  "metadata": {
    "colab": {
      "name": "sklearn_regression_knn.ipynb",
      "provenance": [],
      "authorship_tag": "ABX9TyN26bz0SeHEVuxJwMVJFzWp"
    },
    "kernelspec": {
      "name": "python3",
      "display_name": "Python 3"
    },
    "language_info": {
      "name": "python"
    }
  },
  "cells": [
    {
      "cell_type": "code",
      "execution_count": 1,
      "metadata": {
        "id": "ca6UebhIXuGS"
      },
      "outputs": [],
      "source": [
        "import pandas as pd"
      ]
    },
    {
      "cell_type": "code",
      "source": [
        "sensus ={\n",
        "    'tinggi':[150,170,183,191,155,163,180,158,178],\n",
        "    'berat':[64,68,84,80,49,59,67,54,67],\n",
        "    'jk': ['pria','pria','pria','pria','pria','pria','wanita','wanita','wanita']\n",
        "}"
      ],
      "metadata": {
        "id": "uE6Qey1gX_6a"
      },
      "execution_count": 2,
      "outputs": []
    },
    {
      "cell_type": "code",
      "source": [
        "sensus_df=pd.DataFrame(sensus)\n",
        "\n",
        "sensus_df"
      ],
      "metadata": {
        "colab": {
          "base_uri": "https://localhost:8080/",
          "height": 332
        },
        "id": "QBTyEa7rYbxF",
        "outputId": "c8755b0a-226a-4f77-e6ab-bcf3537d10d6"
      },
      "execution_count": 3,
      "outputs": [
        {
          "output_type": "execute_result",
          "data": {
            "text/plain": [
              "   tinggi  berat      jk\n",
              "0     150     64    pria\n",
              "1     170     68    pria\n",
              "2     183     84    pria\n",
              "3     191     80    pria\n",
              "4     155     49    pria\n",
              "5     163     59    pria\n",
              "6     180     67  wanita\n",
              "7     158     54  wanita\n",
              "8     178     67  wanita"
            ],
            "text/html": [
              "\n",
              "  <div id=\"df-7b66aee0-db0e-4538-9226-3789bcea67e2\">\n",
              "    <div class=\"colab-df-container\">\n",
              "      <div>\n",
              "<style scoped>\n",
              "    .dataframe tbody tr th:only-of-type {\n",
              "        vertical-align: middle;\n",
              "    }\n",
              "\n",
              "    .dataframe tbody tr th {\n",
              "        vertical-align: top;\n",
              "    }\n",
              "\n",
              "    .dataframe thead th {\n",
              "        text-align: right;\n",
              "    }\n",
              "</style>\n",
              "<table border=\"1\" class=\"dataframe\">\n",
              "  <thead>\n",
              "    <tr style=\"text-align: right;\">\n",
              "      <th></th>\n",
              "      <th>tinggi</th>\n",
              "      <th>berat</th>\n",
              "      <th>jk</th>\n",
              "    </tr>\n",
              "  </thead>\n",
              "  <tbody>\n",
              "    <tr>\n",
              "      <th>0</th>\n",
              "      <td>150</td>\n",
              "      <td>64</td>\n",
              "      <td>pria</td>\n",
              "    </tr>\n",
              "    <tr>\n",
              "      <th>1</th>\n",
              "      <td>170</td>\n",
              "      <td>68</td>\n",
              "      <td>pria</td>\n",
              "    </tr>\n",
              "    <tr>\n",
              "      <th>2</th>\n",
              "      <td>183</td>\n",
              "      <td>84</td>\n",
              "      <td>pria</td>\n",
              "    </tr>\n",
              "    <tr>\n",
              "      <th>3</th>\n",
              "      <td>191</td>\n",
              "      <td>80</td>\n",
              "      <td>pria</td>\n",
              "    </tr>\n",
              "    <tr>\n",
              "      <th>4</th>\n",
              "      <td>155</td>\n",
              "      <td>49</td>\n",
              "      <td>pria</td>\n",
              "    </tr>\n",
              "    <tr>\n",
              "      <th>5</th>\n",
              "      <td>163</td>\n",
              "      <td>59</td>\n",
              "      <td>pria</td>\n",
              "    </tr>\n",
              "    <tr>\n",
              "      <th>6</th>\n",
              "      <td>180</td>\n",
              "      <td>67</td>\n",
              "      <td>wanita</td>\n",
              "    </tr>\n",
              "    <tr>\n",
              "      <th>7</th>\n",
              "      <td>158</td>\n",
              "      <td>54</td>\n",
              "      <td>wanita</td>\n",
              "    </tr>\n",
              "    <tr>\n",
              "      <th>8</th>\n",
              "      <td>178</td>\n",
              "      <td>67</td>\n",
              "      <td>wanita</td>\n",
              "    </tr>\n",
              "  </tbody>\n",
              "</table>\n",
              "</div>\n",
              "      <button class=\"colab-df-convert\" onclick=\"convertToInteractive('df-7b66aee0-db0e-4538-9226-3789bcea67e2')\"\n",
              "              title=\"Convert this dataframe to an interactive table.\"\n",
              "              style=\"display:none;\">\n",
              "        \n",
              "  <svg xmlns=\"http://www.w3.org/2000/svg\" height=\"24px\"viewBox=\"0 0 24 24\"\n",
              "       width=\"24px\">\n",
              "    <path d=\"M0 0h24v24H0V0z\" fill=\"none\"/>\n",
              "    <path d=\"M18.56 5.44l.94 2.06.94-2.06 2.06-.94-2.06-.94-.94-2.06-.94 2.06-2.06.94zm-11 1L8.5 8.5l.94-2.06 2.06-.94-2.06-.94L8.5 2.5l-.94 2.06-2.06.94zm10 10l.94 2.06.94-2.06 2.06-.94-2.06-.94-.94-2.06-.94 2.06-2.06.94z\"/><path d=\"M17.41 7.96l-1.37-1.37c-.4-.4-.92-.59-1.43-.59-.52 0-1.04.2-1.43.59L10.3 9.45l-7.72 7.72c-.78.78-.78 2.05 0 2.83L4 21.41c.39.39.9.59 1.41.59.51 0 1.02-.2 1.41-.59l7.78-7.78 2.81-2.81c.8-.78.8-2.07 0-2.86zM5.41 20L4 18.59l7.72-7.72 1.47 1.35L5.41 20z\"/>\n",
              "  </svg>\n",
              "      </button>\n",
              "      \n",
              "  <style>\n",
              "    .colab-df-container {\n",
              "      display:flex;\n",
              "      flex-wrap:wrap;\n",
              "      gap: 12px;\n",
              "    }\n",
              "\n",
              "    .colab-df-convert {\n",
              "      background-color: #E8F0FE;\n",
              "      border: none;\n",
              "      border-radius: 50%;\n",
              "      cursor: pointer;\n",
              "      display: none;\n",
              "      fill: #1967D2;\n",
              "      height: 32px;\n",
              "      padding: 0 0 0 0;\n",
              "      width: 32px;\n",
              "    }\n",
              "\n",
              "    .colab-df-convert:hover {\n",
              "      background-color: #E2EBFA;\n",
              "      box-shadow: 0px 1px 2px rgba(60, 64, 67, 0.3), 0px 1px 3px 1px rgba(60, 64, 67, 0.15);\n",
              "      fill: #174EA6;\n",
              "    }\n",
              "\n",
              "    [theme=dark] .colab-df-convert {\n",
              "      background-color: #3B4455;\n",
              "      fill: #D2E3FC;\n",
              "    }\n",
              "\n",
              "    [theme=dark] .colab-df-convert:hover {\n",
              "      background-color: #434B5C;\n",
              "      box-shadow: 0px 1px 3px 1px rgba(0, 0, 0, 0.15);\n",
              "      filter: drop-shadow(0px 1px 2px rgba(0, 0, 0, 0.3));\n",
              "      fill: #FFFFFF;\n",
              "    }\n",
              "  </style>\n",
              "\n",
              "      <script>\n",
              "        const buttonEl =\n",
              "          document.querySelector('#df-7b66aee0-db0e-4538-9226-3789bcea67e2 button.colab-df-convert');\n",
              "        buttonEl.style.display =\n",
              "          google.colab.kernel.accessAllowed ? 'block' : 'none';\n",
              "\n",
              "        async function convertToInteractive(key) {\n",
              "          const element = document.querySelector('#df-7b66aee0-db0e-4538-9226-3789bcea67e2');\n",
              "          const dataTable =\n",
              "            await google.colab.kernel.invokeFunction('convertToInteractive',\n",
              "                                                     [key], {});\n",
              "          if (!dataTable) return;\n",
              "\n",
              "          const docLinkHtml = 'Like what you see? Visit the ' +\n",
              "            '<a target=\"_blank\" href=https://colab.research.google.com/notebooks/data_table.ipynb>data table notebook</a>'\n",
              "            + ' to learn more about interactive tables.';\n",
              "          element.innerHTML = '';\n",
              "          dataTable['output_type'] = 'display_data';\n",
              "          await google.colab.output.renderOutput(dataTable, element);\n",
              "          const docLink = document.createElement('div');\n",
              "          docLink.innerHTML = docLinkHtml;\n",
              "          element.appendChild(docLink);\n",
              "        }\n",
              "      </script>\n",
              "    </div>\n",
              "  </div>\n",
              "  "
            ]
          },
          "metadata": {},
          "execution_count": 3
        }
      ]
    },
    {
      "cell_type": "code",
      "source": [
        "import numpy as np\n",
        "\n",
        "X_train=np.array(sensus_df[['tinggi','jk']])\n",
        "y_train=np.array(sensus_df[['berat']])\n",
        "\n",
        "print(f'X_train :\\n {X_train}')\n",
        "print(f'y_train : \\n {y_train}')"
      ],
      "metadata": {
        "colab": {
          "base_uri": "https://localhost:8080/"
        },
        "id": "AA7jCrGSYlQt",
        "outputId": "92e0cd72-c782-4898-f822-a4b4b7e99d58"
      },
      "execution_count": 4,
      "outputs": [
        {
          "output_type": "stream",
          "name": "stdout",
          "text": [
            "X_train :\n",
            " [[150 'pria']\n",
            " [170 'pria']\n",
            " [183 'pria']\n",
            " [191 'pria']\n",
            " [155 'pria']\n",
            " [163 'pria']\n",
            " [180 'wanita']\n",
            " [158 'wanita']\n",
            " [178 'wanita']]\n",
            "y_train : \n",
            " [[64]\n",
            " [68]\n",
            " [84]\n",
            " [80]\n",
            " [49]\n",
            " [59]\n",
            " [67]\n",
            " [54]\n",
            " [67]]\n"
          ]
        }
      ]
    },
    {
      "cell_type": "code",
      "source": [
        "X_train_transposed = np.transpose(X_train)\n",
        "\n",
        "print(f'X_train :\\n {X_train}')\n",
        "print(f'X_train_transposed : \\n {X_train_transposed}')"
      ],
      "metadata": {
        "colab": {
          "base_uri": "https://localhost:8080/"
        },
        "id": "xu_aaAlmYtCd",
        "outputId": "53a89eaa-58a6-41c1-c72d-837f81615a9e"
      },
      "execution_count": 5,
      "outputs": [
        {
          "output_type": "stream",
          "name": "stdout",
          "text": [
            "X_train :\n",
            " [[150 'pria']\n",
            " [170 'pria']\n",
            " [183 'pria']\n",
            " [191 'pria']\n",
            " [155 'pria']\n",
            " [163 'pria']\n",
            " [180 'wanita']\n",
            " [158 'wanita']\n",
            " [178 'wanita']]\n",
            "X_train_transposed : \n",
            " [[150 170 183 191 155 163 180 158 178]\n",
            " ['pria' 'pria' 'pria' 'pria' 'pria' 'pria' 'wanita' 'wanita' 'wanita']]\n"
          ]
        }
      ]
    },
    {
      "cell_type": "code",
      "source": [
        "from sklearn.preprocessing import LabelBinarizer\n",
        "\n",
        "lb = LabelBinarizer()\n",
        "jk_binarised = lb.fit_transform(X_train_transposed[1])\n",
        "\n",
        "print(f'jk :\\n {X_train_transposed[1]}')\n",
        "print(f'jk_binarised : \\n {jk_binarised}')"
      ],
      "metadata": {
        "colab": {
          "base_uri": "https://localhost:8080/"
        },
        "id": "eDW3LwxaY5OC",
        "outputId": "d2d42107-e81d-470d-ba9d-e6980b9ac154"
      },
      "execution_count": 6,
      "outputs": [
        {
          "output_type": "stream",
          "name": "stdout",
          "text": [
            "jk :\n",
            " ['pria' 'pria' 'pria' 'pria' 'pria' 'pria' 'wanita' 'wanita' 'wanita']\n",
            "jk_binarised : \n",
            " [[0]\n",
            " [0]\n",
            " [0]\n",
            " [0]\n",
            " [0]\n",
            " [0]\n",
            " [1]\n",
            " [1]\n",
            " [1]]\n"
          ]
        }
      ]
    },
    {
      "cell_type": "code",
      "source": [
        "jk_binarised = jk_binarised.flatten()\n",
        "\n",
        "jk_binarised"
      ],
      "metadata": {
        "colab": {
          "base_uri": "https://localhost:8080/"
        },
        "id": "645AnkyeZzcu",
        "outputId": "02fb9909-cd75-4648-d9d1-e7204c4c3d1e"
      },
      "execution_count": 7,
      "outputs": [
        {
          "output_type": "execute_result",
          "data": {
            "text/plain": [
              "array([0, 0, 0, 0, 0, 0, 1, 1, 1])"
            ]
          },
          "metadata": {},
          "execution_count": 7
        }
      ]
    },
    {
      "cell_type": "code",
      "source": [
        "X_train_transposed[1] = jk_binarised\n",
        "X_train = X_train_transposed.transpose()\n",
        "\n",
        "print(f'X_train_transposed :\\n {X_train_transposed}')\n",
        "print(f'X_train : \\n {X_train}')"
      ],
      "metadata": {
        "colab": {
          "base_uri": "https://localhost:8080/"
        },
        "id": "sYTOvdwWZ4jd",
        "outputId": "c0822cfe-804d-4ec5-b750-13c91cfd7f9a"
      },
      "execution_count": 10,
      "outputs": [
        {
          "output_type": "stream",
          "name": "stdout",
          "text": [
            "X_train_transposed :\n",
            " [[150 170 183 191 155 163 180 158 178]\n",
            " [0 0 0 0 0 0 1 1 1]]\n",
            "X_train : \n",
            " [[150 0]\n",
            " [170 0]\n",
            " [183 0]\n",
            " [191 0]\n",
            " [155 0]\n",
            " [163 0]\n",
            " [180 1]\n",
            " [158 1]\n",
            " [178 1]]\n"
          ]
        }
      ]
    },
    {
      "cell_type": "code",
      "source": [
        "from sklearn.neighbors import KNeighborsRegressor\n",
        "\n",
        "K = 3\n",
        "model = KNeighborsRegressor(n_neighbors = K)\n",
        "model.fit(X_train,y_train)"
      ],
      "metadata": {
        "colab": {
          "base_uri": "https://localhost:8080/"
        },
        "id": "GkcYCdD_aYIy",
        "outputId": "94e0e458-0bc9-461c-992c-53ec90ad6133"
      },
      "execution_count": 11,
      "outputs": [
        {
          "output_type": "execute_result",
          "data": {
            "text/plain": [
              "KNeighborsRegressor(n_neighbors=3)"
            ]
          },
          "metadata": {},
          "execution_count": 11
        }
      ]
    },
    {
      "cell_type": "code",
      "source": [
        "X_new = np.array([[155,1]])\n",
        "X_new"
      ],
      "metadata": {
        "colab": {
          "base_uri": "https://localhost:8080/"
        },
        "id": "ivfmCtZEao84",
        "outputId": "b553f898-43a0-44fb-cea8-f86f18445300"
      },
      "execution_count": 12,
      "outputs": [
        {
          "output_type": "execute_result",
          "data": {
            "text/plain": [
              "array([[155,   1]])"
            ]
          },
          "metadata": {},
          "execution_count": 12
        }
      ]
    },
    {
      "cell_type": "code",
      "source": [
        "y_pred = model.predict(X_new)\n",
        "y_pred"
      ],
      "metadata": {
        "colab": {
          "base_uri": "https://localhost:8080/"
        },
        "id": "8ute_wD0akbM",
        "outputId": "d7ee09ca-2332-4045-db31-98db8453bbcf"
      },
      "execution_count": 14,
      "outputs": [
        {
          "output_type": "execute_result",
          "data": {
            "text/plain": [
              "array([[55.66666667]])"
            ]
          },
          "metadata": {},
          "execution_count": 14
        }
      ]
    },
    {
      "cell_type": "code",
      "source": [
        "X_test = np.array([[168,0],[180,0],[160,1],[169,1]])\n",
        "y_test = np.array([65,96,52,67])\n",
        "\n",
        "print(f'X_test :\\n {X_test}')\n",
        "print(f'y_test : \\n {y_test}')"
      ],
      "metadata": {
        "colab": {
          "base_uri": "https://localhost:8080/"
        },
        "id": "ktTPh-47ax5R",
        "outputId": "32b1f80b-57be-422a-b2a9-afd16e9ea922"
      },
      "execution_count": 15,
      "outputs": [
        {
          "output_type": "stream",
          "name": "stdout",
          "text": [
            "X_test :\n",
            " [[168   0]\n",
            " [180   0]\n",
            " [160   1]\n",
            " [169   1]]\n",
            "y_test : \n",
            " [65 96 52 67]\n"
          ]
        }
      ]
    },
    {
      "cell_type": "code",
      "source": [
        "y_pred = model.predict(X_test)\n",
        "y_pred"
      ],
      "metadata": {
        "colab": {
          "base_uri": "https://localhost:8080/"
        },
        "id": "OqMvWacTayet",
        "outputId": "0c02c68b-1a6c-4956-de39-10cb2ee275b8"
      },
      "execution_count": 16,
      "outputs": [
        {
          "output_type": "execute_result",
          "data": {
            "text/plain": [
              "array([[60.33333333],\n",
              "       [72.66666667],\n",
              "       [54.        ],\n",
              "       [64.66666667]])"
            ]
          },
          "metadata": {},
          "execution_count": 16
        }
      ]
    },
    {
      "cell_type": "code",
      "source": [
        "from sklearn.metrics import r2_score\n",
        "\n",
        "r_squared = r2_score(y_test,y_pred)\n",
        "\n",
        "print(f'R-squared : {r_squared}')"
      ],
      "metadata": {
        "colab": {
          "base_uri": "https://localhost:8080/"
        },
        "id": "EwO2KSs9b-MF",
        "outputId": "1da1f2b3-a45c-4b59-a101-615cf3810926"
      },
      "execution_count": 17,
      "outputs": [
        {
          "output_type": "stream",
          "name": "stdout",
          "text": [
            "R-squared : 0.443262411347518\n"
          ]
        }
      ]
    },
    {
      "cell_type": "code",
      "source": [
        "from sklearn.metrics import mean_absolute_error\n",
        "\n",
        "MAE = mean_absolute_error(y_test,y_pred)\n",
        "\n",
        "print(f'MAE : {MAE}')"
      ],
      "metadata": {
        "colab": {
          "base_uri": "https://localhost:8080/"
        },
        "id": "hR-0OHaccJLK",
        "outputId": "5c93b405-5f6b-47ef-d61d-4acacd172055"
      },
      "execution_count": 18,
      "outputs": [
        {
          "output_type": "stream",
          "name": "stdout",
          "text": [
            "MAE : 8.08333333333333\n"
          ]
        }
      ]
    },
    {
      "cell_type": "code",
      "source": [
        "from sklearn.metrics import mean_squared_error\n",
        "\n",
        "MSE = mean_squared_error(y_test,y_pred)\n",
        "\n",
        "print(f'MSE : {MSE}')"
      ],
      "metadata": {
        "colab": {
          "base_uri": "https://localhost:8080/"
        },
        "id": "IHi6tktWcYPN",
        "outputId": "87083ad5-08c6-4fdc-90eb-67848029f191"
      },
      "execution_count": 19,
      "outputs": [
        {
          "output_type": "stream",
          "name": "stdout",
          "text": [
            "MSE : 143.9166666666666\n"
          ]
        }
      ]
    },
    {
      "cell_type": "code",
      "source": [
        "from scipy.spatial.distance import euclidean"
      ],
      "metadata": {
        "id": "uWNVzEkjciEh"
      },
      "execution_count": 20,
      "outputs": []
    },
    {
      "cell_type": "code",
      "source": [
        "X_train = np.array([[1.7,0],[1.6,1]])\n",
        "X_new = np.array([[1.64,0]])\n",
        "\n",
        "[euclidean(X_new[0],d) for d in X_train]"
      ],
      "metadata": {
        "id": "H--maxlocpW3",
        "outputId": "c650e653-04d1-480e-9298-e9851046c9fc",
        "colab": {
          "base_uri": "https://localhost:8080/"
        }
      },
      "execution_count": 21,
      "outputs": [
        {
          "output_type": "execute_result",
          "data": {
            "text/plain": [
              "[0.06000000000000005, 1.0007996802557442]"
            ]
          },
          "metadata": {},
          "execution_count": 21
        }
      ]
    },
    {
      "cell_type": "code",
      "source": [
        "X_train = np.array([[1700,0],[1600,1]])\n",
        "X_new = np.array([[1640,0]])\n",
        "\n",
        "[euclidean(X_new[0],d) for d in X_train]"
      ],
      "metadata": {
        "id": "F-bHPY3jdQAd",
        "outputId": "090cf94b-86b9-4773-a717-6eea1f1e5a1b",
        "colab": {
          "base_uri": "https://localhost:8080/"
        }
      },
      "execution_count": 22,
      "outputs": [
        {
          "output_type": "execute_result",
          "data": {
            "text/plain": [
              "[60.0, 40.01249804748511]"
            ]
          },
          "metadata": {},
          "execution_count": 22
        }
      ]
    },
    {
      "cell_type": "code",
      "source": [
        "from sklearn.preprocessing import StandardScaler\n",
        "\n",
        "ss = StandardScaler()"
      ],
      "metadata": {
        "id": "fJAnhjv9dUrN"
      },
      "execution_count": 23,
      "outputs": []
    },
    {
      "cell_type": "code",
      "source": [
        "X_train = np.array([[1700,0],[1600,1]])\n",
        "X_train_scaled = ss.fit_transform(X_train)\n",
        "\n",
        "print(f'X_train_scaled : {X_train_scaled}')\n",
        "\n",
        "X_new = np.array([[1640,0]])\n",
        "X_new_scaled = ss.transform(X_new)\n",
        "print(f'X_new_scaled : {X_new_scaled}')\n",
        "\n",
        "jarak = [euclidean(X_new_scaled[0],d) for d in X_train_scaled]\n",
        "print(f'Jarak : {jarak}')"
      ],
      "metadata": {
        "id": "yzrG3Ajwddb1",
        "outputId": "dddd4bfb-7083-402b-9693-803e83642d5a",
        "colab": {
          "base_uri": "https://localhost:8080/"
        }
      },
      "execution_count": 25,
      "outputs": [
        {
          "output_type": "stream",
          "name": "stdout",
          "text": [
            "X_train_scaled : [[ 1. -1.]\n",
            " [-1.  1.]]\n",
            "X_new_scaled : [[-0.2 -1. ]]\n",
            "Jarak : [1.2, 2.1540659228538015]\n"
          ]
        }
      ]
    },
    {
      "cell_type": "code",
      "source": [
        "X_train = np.array([[1.7,0],[1.6,1]])\n",
        "X_train_scaled = ss.fit_transform(X_train)\n",
        "\n",
        "print(f'X_train_scaled : {X_train_scaled}')\n",
        "\n",
        "X_new = np.array([[1.64,0]])\n",
        "X_new_scaled = ss.transform(X_new)\n",
        "print(f'X_new_scaled : {X_new_scaled}')\n",
        "\n",
        "jarak = [euclidean(X_new_scaled[0],d) for d in X_train_scaled]\n",
        "print(f'Jarak : {jarak}')"
      ],
      "metadata": {
        "id": "ea5BerDjeIWh",
        "outputId": "221a851b-fc9c-4da5-b36a-0caa635b1d05",
        "colab": {
          "base_uri": "https://localhost:8080/"
        }
      },
      "execution_count": 26,
      "outputs": [
        {
          "output_type": "stream",
          "name": "stdout",
          "text": [
            "X_train_scaled : [[ 1. -1.]\n",
            " [-1.  1.]]\n",
            "X_new_scaled : [[-0.2 -1. ]]\n",
            "Jarak : [1.2000000000000026, 2.1540659228538006]\n"
          ]
        }
      ]
    }
  ]
}