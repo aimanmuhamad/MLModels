{
  "nbformat": 4,
  "nbformat_minor": 0,
  "metadata": {
    "colab": {
      "name": "K-NearestNeighbors.ipynb",
      "provenance": [],
      "authorship_tag": "ABX9TyOBtfd6ia79oQTZxNY+S4xG"
    },
    "kernelspec": {
      "name": "python3",
      "display_name": "Python 3"
    },
    "language_info": {
      "name": "python"
    }
  },
  "cells": [
    {
      "cell_type": "code",
      "execution_count": 2,
      "metadata": {
        "id": "qjwKBtV498TN"
      },
      "outputs": [],
      "source": [
        "import numpy as np\n",
        "from collections import Counter"
      ]
    },
    {
      "cell_type": "code",
      "source": [
        "class KNN:\n",
        "\n",
        "  def __init__(self,k=3):\n",
        "    self.K=k\n",
        "  \n",
        "  def train(self,X,y):\n",
        "    self.X_train=X\n",
        "    self.y_train=y\n",
        "  \n",
        "  def predict(self,X):\n",
        "    y_prediksi=[self._prediksi(x) for x in x]\n",
        "    return np.array(y_prediksi)\n",
        "\n",
        "  def _prediksi(self,x):\n",
        "    jarak=[self.jarak(x,x_train) for x_train in self.X_train]\n",
        "    k_best=np.argsort(jarak)[:self.K]\n",
        "    label_K=[self.y_train[i] for i in k_best]\n",
        "    result=Counter(label_K).most_common(1)\n",
        "\n",
        "    return result[0][0]\n",
        "\n",
        "  def jarak(self,x1,x2):\n",
        "    return np.sqrt(np.sum((x1-x2)**2))"
      ],
      "metadata": {
        "id": "yyUCszhH-dk2"
      },
      "execution_count": 13,
      "outputs": []
    }
  ]
}