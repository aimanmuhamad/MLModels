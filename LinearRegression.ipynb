{
  "nbformat": 4,
  "nbformat_minor": 0,
  "metadata": {
    "colab": {
      "name": "LinearRegression.ipynb",
      "provenance": [],
      "authorship_tag": "ABX9TyOBFNk1NTyCsS8wa1Wf77Bc"
    },
    "kernelspec": {
      "name": "python3",
      "display_name": "Python 3"
    },
    "language_info": {
      "name": "python"
    }
  },
  "cells": [
    {
      "cell_type": "code",
      "execution_count": 1,
      "metadata": {
        "id": "iQPxyhzyh3a5"
      },
      "outputs": [],
      "source": [
        "import numpy as np"
      ]
    },
    {
      "cell_type": "code",
      "source": [
        "#Y=wX+b\n",
        "#Y dependent variable, X Independent Variable, w weight, and b bias\n",
        "\n",
        "class Linear_Regression():\n",
        "  \n",
        "  def __init__(self,learning_rate,no_of_iterations):\n",
        "    #Iniating learning rate and no of iterations\n",
        "    self.learning_rate=learning_rate\n",
        "    self.no_of_iterations=no_of_iterations\n",
        "\n",
        "  def fit(self,X,Y):\n",
        "\n",
        "    #number of training example and number of features\n",
        "    self.m,self.n=X.shape\n",
        "    self.w=np.zeros(self.n)\n",
        "    self.b=0\n",
        "    self.X=X\n",
        "    self.Y=Y\n",
        "\n",
        "    #Implementing Gradient Descent\n",
        "\n",
        "    for i in range(self.no_of_iterations):\n",
        "      self.update_weights()\n",
        "\n",
        "  def update_weights(self,):\n",
        "    Y_prediction=self.predict(self.X)\n",
        "\n",
        "    #calculate gradients\n",
        "    dw=-(2*(self.X.T).dot(self.Y-Y_prediction))/self.m\n",
        "    db=-2*np.sum(self.Y-Y_prediction)/self.m\n",
        "\n",
        "    #updating the weights\n",
        "    self.w=self.w-self.learning_rate*dw\n",
        "    self.d=self.d-self.learning_rate*db\n",
        "\n",
        "  def predict(self,X):\n",
        "\n",
        "    return X.dot(self.w)+self.b"
      ],
      "metadata": {
        "id": "2LzoSvXIu54H"
      },
      "execution_count": 2,
      "outputs": []
    }
  ]
}