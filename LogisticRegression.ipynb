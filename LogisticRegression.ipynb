{
  "nbformat": 4,
  "nbformat_minor": 0,
  "metadata": {
    "colab": {
      "name": "LogisticRegression.ipynb",
      "provenance": [],
      "authorship_tag": "ABX9TyOMgFowfUpgPV/onMfFfijU"
    },
    "kernelspec": {
      "name": "python3",
      "display_name": "Python 3"
    },
    "language_info": {
      "name": "python"
    }
  },
  "cells": [
    {
      "cell_type": "code",
      "execution_count": 1,
      "metadata": {
        "id": "gO5KfB97-ZXQ"
      },
      "outputs": [],
      "source": [
        "import numpy as np"
      ]
    },
    {
      "cell_type": "code",
      "source": [
        "class Logistic_Regression():\n",
        "  def __init__(self,learning_rate,no_of_iterations):\n",
        "    #Initiate learning rate and number of iterations\n",
        "    self.learning_rate=learning_rate\n",
        "    self.no_of_iterations=no_of_iterations\n",
        "\n",
        "  def fit(self,X,Y):\n",
        "    #n values is input features (columns)\n",
        "    #m values is data points(rows)\n",
        "    self.m,self.n=X.shape\n",
        "\n",
        "    #Iniate weight and bias values\n",
        "    self.w=np.zeros(self.n)\n",
        "    self.b=0\n",
        "    self.X=X\n",
        "    self.Y=Y\n",
        "\n",
        "    #Gradient Descent\n",
        "    for i in range(self.no_of_iterations):\n",
        "      self.update_weights()\n",
        "\n",
        "  def update_weights(self):\n",
        "    #sigmoid function\n",
        "    Y_hat=1/(1+np.exp(-(self.Xdot(self.w)+self.b)))\n",
        "\n",
        "    #derivates\n",
        "    dw=(1/self.m)*np.dot(self.X.T,(Y_hat-self.Y))\n",
        "    db=(1/self.m)*np.sum(Y_hat-self.Y)\n",
        "\n",
        "    #update weight and bias from gradient descent\n",
        "    self.w=self.w-self.learning_rate*dw\n",
        "    self.b=self.b-self.learning_rate*db\n",
        "\n",
        "  def predict(self):\n",
        "    Y_pred=1/(1+np.exp(-(self.X.dot(self.w)+self.b)))\n",
        "    Y_pred=np.where(Y_pred>0.5,1,0)\n",
        "    return Y_pred\n"
      ],
      "metadata": {
        "id": "2fFk3kCIFJsd"
      },
      "execution_count": 6,
      "outputs": []
    },
    {
      "cell_type": "code",
      "source": [
        "#example\n",
        "model=Logistic_Regression(learning_rate=0.1,no_of_iterations=1000)"
      ],
      "metadata": {
        "id": "aT0CtaHYFmIX"
      },
      "execution_count": 7,
      "outputs": []
    }
  ]
}