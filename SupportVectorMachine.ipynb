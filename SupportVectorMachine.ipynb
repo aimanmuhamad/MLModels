{
  "nbformat": 4,
  "nbformat_minor": 0,
  "metadata": {
    "colab": {
      "name": "SupportVectorMachine.ipynb",
      "provenance": [],
      "authorship_tag": "ABX9TyPqCREkTm42KHVN0x5mR/4m"
    },
    "kernelspec": {
      "name": "python3",
      "display_name": "Python 3"
    },
    "language_info": {
      "name": "python"
    }
  },
  "cells": [
    {
      "cell_type": "code",
      "execution_count": 1,
      "metadata": {
        "id": "218G-bHb35SZ"
      },
      "outputs": [],
      "source": [
        "import numpy as np"
      ]
    },
    {
      "cell_type": "code",
      "source": [
        "class SVM_Classifier():\n",
        "  \n",
        "  #Iniating hyperparameters\n",
        "  def __init__(self,learning_rate,no_iterations,lambda_parameter):\n",
        "    \n",
        "    self.learning_rate=learning_rate\n",
        "    self.no_iterations=no_iterations\n",
        "    self.lambda_parameter=lambda_parameter\n",
        "\n",
        "  #Fitting dataset\n",
        "  def fit(self,X,Y):\n",
        "    #m no of rows and n no of columns\n",
        "    self.m,self.n=X.shape\n",
        "\n",
        "    #Initiating weight value and bias value\n",
        "    self.w=np.zeros(self.n)\n",
        "    self.b=0\n",
        "\n",
        "    self.X=X\n",
        "    self.Y=Y\n",
        "\n",
        "    #Implementing Gradient Descent for Optimization\n",
        "    for i in range(self.no_iterations):\n",
        "      self.update_weight()\n",
        "\n",
        "  #Update weight and bias value\n",
        "  def update_weight(self):\n",
        "\n",
        "    #Label Encoding\n",
        "    y_label=np.where(self.Y <=0,-1,1)\n",
        "\n",
        "    for index,x_i in enmerate(self.X):\n",
        "\n",
        "      condition=y_label[index] * (np.dot(x_i,self.w)-self.b) >=1\n",
        "\n",
        "      if (condition==True):\n",
        "        dw = 2 * self.lambda_parameter * self.w\n",
        "        db = 0\n",
        "      \n",
        "      else :\n",
        "        dw = 2 * self.lambda_parameter * self.w - np.dot(x_i,y_label[index])\n",
        "        db = y_label[index]\n",
        "\n",
        "      self.w = self.w - self.learning_rate * dw\n",
        "\n",
        "      self.b = self.b - self.learning_rate * db\n",
        "  #predict label for given value\n",
        "  def predict(self):\n",
        "\n",
        "    output = np.dot(X, self.w) - self.b\n",
        "\n",
        "    predicted_labels = np.sign(output)\n",
        "\n",
        "    y_hat = np.where(predicted_labels <= -1, 0, 1)\n",
        "\n",
        "    return y_hat()"
      ],
      "metadata": {
        "id": "OABsbwCs6kHw"
      },
      "execution_count": 14,
      "outputs": []
    },
    {
      "cell_type": "code",
      "source": [
        "model=SVM_Classifier(learning_rate=0.01,no_iterations=1000,lambda_parameter=0.01)"
      ],
      "metadata": {
        "id": "82u_bvo_8QUg"
      },
      "execution_count": 13,
      "outputs": []
    }
  ]
}